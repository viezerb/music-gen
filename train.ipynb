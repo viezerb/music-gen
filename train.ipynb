{
  "nbformat": 4,
  "nbformat_minor": 0,
  "metadata": {
    "colab": {
      "name": "Untitled0.ipynb",
      "provenance": [],
      "collapsed_sections": [],
      "authorship_tag": "ABX9TyPlUVf9SUoypTk3NJHRwve0",
      "include_colab_link": true
    },
    "kernelspec": {
      "name": "python3",
      "display_name": "Python 3"
    },
    "language_info": {
      "name": "python"
    }
  },
  "cells": [
    {
      "cell_type": "markdown",
      "metadata": {
        "id": "view-in-github",
        "colab_type": "text"
      },
      "source": [
        "<a href=\"https://colab.research.google.com/github/viezerb/music-generation/blob/main/train.ipynb\" target=\"_parent\"><img src=\"https://colab.research.google.com/assets/colab-badge.svg\" alt=\"Open In Colab\"/></a>"
      ]
    },
    {
      "cell_type": "code",
      "execution_count": 2,
      "metadata": {
        "id": "8GgHz2jAS3DD"
      },
      "outputs": [],
      "source": [
        "from music21 import converter, instrument, note, chord\n",
        "from tensorflow import keras\n",
        "from keras.models import Sequential\n",
        "from keras.layers import LSTM, Dropout, Dense, Activation, BatchNormalization as BatchNorm \n",
        "from tensorflow.keras.utils import to_categorical\n",
        "import glob\n",
        "import numpy\n",
        "import pickle\n",
        "from keras.callbacks import ModelCheckpoint\n"
      ]
    },
    {
      "cell_type": "code",
      "source": [
        "def get_notes():\n",
        "    notes = []\n",
        "\n",
        "    for file,count in zip(glob.glob(\"../EMOPIA_1.0/midis/*mid\"), range(200)):\n",
        "        print(\"Parsing %s\" % file)\n",
        "        midi = converter.parse(file)\n",
        "\n",
        "        notes_to_parse = None\n",
        "        \n",
        "        try: # file has instrument parts\n",
        "                s2 = instrument.partitionByInstrument(midi)\n",
        "                notes_to_parse = s2.parts[0].recurse() \n",
        "        except: # file has notes in a flat structure\n",
        "                notes_to_parse = midi.flat.notes\n",
        "        \n",
        "        for element in notes_to_parse:\n",
        "            if isinstance(element, note.Note):\n",
        "                notes.append(str(element.pitch))\n",
        "            elif isinstance(element, chord.Chord):\n",
        "                notes.append('.'.join(str(n) for n in element.normalOrder))\n",
        "\n",
        "    with open('../Classical-Piano-Composer/data/notes', 'wb') as filepath:\n",
        "        pickle.dump(notes, filepath)\n",
        "    print(notes)\n",
        "\n",
        "    return notes\n"
      ],
      "metadata": {
        "id": "iyi5LnC4ePNp"
      },
      "execution_count": 3,
      "outputs": []
    }
  ]
}